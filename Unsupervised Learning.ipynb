{
 "cells": [
  {
   "cell_type": "code",
   "execution_count": 20,
   "metadata": {},
   "outputs": [],
   "source": [
    "import numpy as np, pandas as pd, matplotlib.pyplot as plt\n",
    "from sklearn.preprocessing import LabelEncoder,StandardScaler\n",
    "from sklearn.decomposition import PCA\n",
    "from sklearn.linear_model import LinearRegression\n",
    "from sklearn.metrics import r2_score"
   ]
  },
  {
   "cell_type": "code",
   "execution_count": 2,
   "metadata": {},
   "outputs": [
    {
     "data": {
      "text/html": [
       "<div>\n",
       "<style scoped>\n",
       "    .dataframe tbody tr th:only-of-type {\n",
       "        vertical-align: middle;\n",
       "    }\n",
       "\n",
       "    .dataframe tbody tr th {\n",
       "        vertical-align: top;\n",
       "    }\n",
       "\n",
       "    .dataframe thead th {\n",
       "        text-align: right;\n",
       "    }\n",
       "</style>\n",
       "<table border=\"1\" class=\"dataframe\">\n",
       "  <thead>\n",
       "    <tr style=\"text-align: right;\">\n",
       "      <th></th>\n",
       "      <th>Manufacturer</th>\n",
       "      <th>IntelCore(i-)</th>\n",
       "      <th>IntelCoreGen</th>\n",
       "      <th>processing speed(GHz)</th>\n",
       "      <th>Ram(gb)</th>\n",
       "      <th>HDD(gb)</th>\n",
       "      <th>SSD(gb)</th>\n",
       "      <th>Graphics(gb)</th>\n",
       "      <th>ScreenSize(inch)</th>\n",
       "      <th>Price</th>\n",
       "    </tr>\n",
       "  </thead>\n",
       "  <tbody>\n",
       "    <tr>\n",
       "      <th>0</th>\n",
       "      <td>Dell</td>\n",
       "      <td>3</td>\n",
       "      <td>7</td>\n",
       "      <td>2.29</td>\n",
       "      <td>4</td>\n",
       "      <td>1000</td>\n",
       "      <td>0</td>\n",
       "      <td>0</td>\n",
       "      <td>15.6</td>\n",
       "      <td>39057</td>\n",
       "    </tr>\n",
       "    <tr>\n",
       "      <th>1</th>\n",
       "      <td>Dell</td>\n",
       "      <td>3</td>\n",
       "      <td>7</td>\n",
       "      <td>2.30</td>\n",
       "      <td>4</td>\n",
       "      <td>1000</td>\n",
       "      <td>0</td>\n",
       "      <td>0</td>\n",
       "      <td>15.6</td>\n",
       "      <td>45141</td>\n",
       "    </tr>\n",
       "    <tr>\n",
       "      <th>2</th>\n",
       "      <td>HP</td>\n",
       "      <td>3</td>\n",
       "      <td>7</td>\n",
       "      <td>2.30</td>\n",
       "      <td>8</td>\n",
       "      <td>256</td>\n",
       "      <td>256</td>\n",
       "      <td>0</td>\n",
       "      <td>14.0</td>\n",
       "      <td>35999</td>\n",
       "    </tr>\n",
       "    <tr>\n",
       "      <th>3</th>\n",
       "      <td>ASUS</td>\n",
       "      <td>3</td>\n",
       "      <td>7</td>\n",
       "      <td>2.30</td>\n",
       "      <td>4</td>\n",
       "      <td>1000</td>\n",
       "      <td>0</td>\n",
       "      <td>0</td>\n",
       "      <td>14.0</td>\n",
       "      <td>39990</td>\n",
       "    </tr>\n",
       "    <tr>\n",
       "      <th>4</th>\n",
       "      <td>HP</td>\n",
       "      <td>3</td>\n",
       "      <td>7</td>\n",
       "      <td>2.40</td>\n",
       "      <td>4</td>\n",
       "      <td>1000</td>\n",
       "      <td>0</td>\n",
       "      <td>0</td>\n",
       "      <td>15.6</td>\n",
       "      <td>36263</td>\n",
       "    </tr>\n",
       "  </tbody>\n",
       "</table>\n",
       "</div>"
      ],
      "text/plain": [
       "  Manufacturer  IntelCore(i-)  IntelCoreGen  processing speed(GHz)  Ram(gb)  \\\n",
       "0         Dell              3             7                   2.29        4   \n",
       "1         Dell              3             7                   2.30        4   \n",
       "2           HP              3             7                   2.30        8   \n",
       "3         ASUS              3             7                   2.30        4   \n",
       "4           HP              3             7                   2.40        4   \n",
       "\n",
       "   HDD(gb)  SSD(gb)  Graphics(gb)  ScreenSize(inch)  Price  \n",
       "0     1000        0             0              15.6  39057  \n",
       "1     1000        0             0              15.6  45141  \n",
       "2      256      256             0              14.0  35999  \n",
       "3     1000        0             0              14.0  39990  \n",
       "4     1000        0             0              15.6  36263  "
      ]
     },
     "execution_count": 2,
     "metadata": {},
     "output_type": "execute_result"
    }
   ],
   "source": [
    "df=pd.read_csv(r\"C:\\Users\\Akarsh.B.A\\Desktop\\Karunadu internship\\projects2022\\mutiplelinearregression\\Laptoprice\\laptop_pricing.csv\")\n",
    "df.head()"
   ]
  },
  {
   "cell_type": "code",
   "execution_count": 3,
   "metadata": {},
   "outputs": [
    {
     "name": "stdout",
     "output_type": "stream",
     "text": [
      "<class 'pandas.core.frame.DataFrame'>\n",
      "RangeIndex: 29 entries, 0 to 28\n",
      "Data columns (total 10 columns):\n",
      " #   Column                 Non-Null Count  Dtype  \n",
      "---  ------                 --------------  -----  \n",
      " 0   Manufacturer           29 non-null     object \n",
      " 1   IntelCore(i-)          29 non-null     int64  \n",
      " 2   IntelCoreGen           29 non-null     int64  \n",
      " 3   processing speed(GHz)  29 non-null     float64\n",
      " 4   Ram(gb)                29 non-null     int64  \n",
      " 5   HDD(gb)                29 non-null     int64  \n",
      " 6   SSD(gb)                29 non-null     int64  \n",
      " 7   Graphics(gb)           29 non-null     int64  \n",
      " 8   ScreenSize(inch)       29 non-null     float64\n",
      " 9   Price                  29 non-null     int64  \n",
      "dtypes: float64(2), int64(7), object(1)\n",
      "memory usage: 2.4+ KB\n"
     ]
    }
   ],
   "source": [
    "df.info()"
   ]
  },
  {
   "cell_type": "code",
   "execution_count": 5,
   "metadata": {},
   "outputs": [],
   "source": [
    "en=LabelEncoder()\n",
    "df['Manufacturer']=en.fit_transform(df['Manufacturer'])"
   ]
  },
  {
   "cell_type": "code",
   "execution_count": 6,
   "metadata": {},
   "outputs": [
    {
     "data": {
      "text/html": [
       "<div>\n",
       "<style scoped>\n",
       "    .dataframe tbody tr th:only-of-type {\n",
       "        vertical-align: middle;\n",
       "    }\n",
       "\n",
       "    .dataframe tbody tr th {\n",
       "        vertical-align: top;\n",
       "    }\n",
       "\n",
       "    .dataframe thead th {\n",
       "        text-align: right;\n",
       "    }\n",
       "</style>\n",
       "<table border=\"1\" class=\"dataframe\">\n",
       "  <thead>\n",
       "    <tr style=\"text-align: right;\">\n",
       "      <th></th>\n",
       "      <th>Manufacturer</th>\n",
       "      <th>IntelCore(i-)</th>\n",
       "      <th>IntelCoreGen</th>\n",
       "      <th>processing speed(GHz)</th>\n",
       "      <th>Ram(gb)</th>\n",
       "      <th>HDD(gb)</th>\n",
       "      <th>SSD(gb)</th>\n",
       "      <th>Graphics(gb)</th>\n",
       "      <th>ScreenSize(inch)</th>\n",
       "      <th>Price</th>\n",
       "    </tr>\n",
       "  </thead>\n",
       "  <tbody>\n",
       "    <tr>\n",
       "      <th>0</th>\n",
       "      <td>1</td>\n",
       "      <td>3</td>\n",
       "      <td>7</td>\n",
       "      <td>2.29</td>\n",
       "      <td>4</td>\n",
       "      <td>1000</td>\n",
       "      <td>0</td>\n",
       "      <td>0</td>\n",
       "      <td>15.6</td>\n",
       "      <td>39057</td>\n",
       "    </tr>\n",
       "    <tr>\n",
       "      <th>1</th>\n",
       "      <td>1</td>\n",
       "      <td>3</td>\n",
       "      <td>7</td>\n",
       "      <td>2.30</td>\n",
       "      <td>4</td>\n",
       "      <td>1000</td>\n",
       "      <td>0</td>\n",
       "      <td>0</td>\n",
       "      <td>15.6</td>\n",
       "      <td>45141</td>\n",
       "    </tr>\n",
       "    <tr>\n",
       "      <th>2</th>\n",
       "      <td>2</td>\n",
       "      <td>3</td>\n",
       "      <td>7</td>\n",
       "      <td>2.30</td>\n",
       "      <td>8</td>\n",
       "      <td>256</td>\n",
       "      <td>256</td>\n",
       "      <td>0</td>\n",
       "      <td>14.0</td>\n",
       "      <td>35999</td>\n",
       "    </tr>\n",
       "    <tr>\n",
       "      <th>3</th>\n",
       "      <td>0</td>\n",
       "      <td>3</td>\n",
       "      <td>7</td>\n",
       "      <td>2.30</td>\n",
       "      <td>4</td>\n",
       "      <td>1000</td>\n",
       "      <td>0</td>\n",
       "      <td>0</td>\n",
       "      <td>14.0</td>\n",
       "      <td>39990</td>\n",
       "    </tr>\n",
       "    <tr>\n",
       "      <th>4</th>\n",
       "      <td>2</td>\n",
       "      <td>3</td>\n",
       "      <td>7</td>\n",
       "      <td>2.40</td>\n",
       "      <td>4</td>\n",
       "      <td>1000</td>\n",
       "      <td>0</td>\n",
       "      <td>0</td>\n",
       "      <td>15.6</td>\n",
       "      <td>36263</td>\n",
       "    </tr>\n",
       "  </tbody>\n",
       "</table>\n",
       "</div>"
      ],
      "text/plain": [
       "   Manufacturer  IntelCore(i-)  IntelCoreGen  processing speed(GHz)  Ram(gb)  \\\n",
       "0             1              3             7                   2.29        4   \n",
       "1             1              3             7                   2.30        4   \n",
       "2             2              3             7                   2.30        8   \n",
       "3             0              3             7                   2.30        4   \n",
       "4             2              3             7                   2.40        4   \n",
       "\n",
       "   HDD(gb)  SSD(gb)  Graphics(gb)  ScreenSize(inch)  Price  \n",
       "0     1000        0             0              15.6  39057  \n",
       "1     1000        0             0              15.6  45141  \n",
       "2      256      256             0              14.0  35999  \n",
       "3     1000        0             0              14.0  39990  \n",
       "4     1000        0             0              15.6  36263  "
      ]
     },
     "execution_count": 6,
     "metadata": {},
     "output_type": "execute_result"
    }
   ],
   "source": [
    "df.head()"
   ]
  },
  {
   "cell_type": "code",
   "execution_count": 13,
   "metadata": {},
   "outputs": [],
   "source": [
    "inp=df.drop('Price',axis=1)\n",
    "t=df['Price']"
   ]
  },
  {
   "cell_type": "code",
   "execution_count": 18,
   "metadata": {},
   "outputs": [],
   "source": [
    "x = []\n",
    "for i in range(9):\n",
    "    Pca = PCA(n_components=i+1)\n",
    "    data = Pca.fit_transform(inp)\n",
    "    Reg = LinearRegression()\n",
    "    Reg.fit(data,t)\n",
    "    x.append(r2_score(t,Reg.predict(data))*100)\n"
   ]
  },
  {
   "cell_type": "code",
   "execution_count": 23,
   "metadata": {},
   "outputs": [
    {
     "data": {
      "text/plain": [
       "<BarContainer object of 9 artists>"
      ]
     },
     "execution_count": 23,
     "metadata": {},
     "output_type": "execute_result"
    },
    {
     "data": {
      "image/png": "[encoded data removed]",
      "text/plain": [
       "<Figure size 432x288 with 1 Axes>"
      ]
     },
     "metadata": {
      "needs_background": "light"
     },
     "output_type": "display_data"
    }
   ],
   "source": [
    "plt.bar(range(9),x)"
   ]
  },
  {
   "cell_type": "code",
   "execution_count": 22,
   "metadata": {},
   "outputs": [
    {
     "data": {
      "text/plain": [
       "[8.622613145936365,\n",
       " 49.700136186297904,\n",
       " 92.95290281670833,\n",
       " 93.05604830867019,\n",
       " 93.07725242384475,\n",
       " 94.73201913334131,\n",
       " 94.75213071657367,\n",
       " 94.75609824118885,\n",
       " 95.19976159713475]"
      ]
     },
     "execution_count": 22,
     "metadata": {},
     "output_type": "execute_result"
    }
   ],
   "source": [
    "x"
   ]
  },
  {
   "cell_type": "code",
   "execution_count": null,
   "metadata": {},
   "outputs": [],
   "source": []
  }
 ],
 "metadata": {
  "kernelspec": {
   "display_name": "Python 3",
   "language": "python",
   "name": "python3"
  },
  "language_info": {
   "codemirror_mode": {
    "name": "ipython",
    "version": 3
   },
   "file_extension": ".py",
   "mimetype": "text/x-python",
   "name": "python",
   "nbconvert_exporter": "python",
   "pygments_lexer": "ipython3",
   "version": "3.8.5"
  }
 },
 "nbformat": 4,
 "nbformat_minor": 4
}
