{
 "cells": [
  {
   "cell_type": "code",
   "execution_count": 1,
   "metadata": {},
   "outputs": [],
   "source": [
    "import pandas as pd, numpy as np, matplotlib.pyplot as plt, warnings\n",
    "from tqdm import tqdm\n",
    "from sklearn.linear_model import LinearRegression\n",
    "from sklearn import linear_model\n",
    "from sklearn.metrics import r2_score\n",
    "warnings.filterwarnings('ignore')\n",
    "pd.options.display.max_columns=100"
   ]
  },
  {
   "cell_type": "code",
   "execution_count": 2,
   "metadata": {},
   "outputs": [
    {
     "data": {
      "text/html": [
       "<div>\n",
       "<style scoped>\n",
       "    .dataframe tbody tr th:only-of-type {\n",
       "        vertical-align: middle;\n",
       "    }\n",
       "\n",
       "    .dataframe tbody tr th {\n",
       "        vertical-align: top;\n",
       "    }\n",
       "\n",
       "    .dataframe thead th {\n",
       "        text-align: right;\n",
       "    }\n",
       "</style>\n",
       "<table border=\"1\" class=\"dataframe\">\n",
       "  <thead>\n",
       "    <tr style=\"text-align: right;\">\n",
       "      <th></th>\n",
       "      <th>name</th>\n",
       "      <th>year</th>\n",
       "      <th>selling_price</th>\n",
       "      <th>km_driven</th>\n",
       "      <th>fuel</th>\n",
       "      <th>seller_type</th>\n",
       "      <th>transmission</th>\n",
       "      <th>owner</th>\n",
       "    </tr>\n",
       "  </thead>\n",
       "  <tbody>\n",
       "    <tr>\n",
       "      <th>0</th>\n",
       "      <td>Maruti 800 AC</td>\n",
       "      <td>2007</td>\n",
       "      <td>60000</td>\n",
       "      <td>70000</td>\n",
       "      <td>Petrol</td>\n",
       "      <td>Individual</td>\n",
       "      <td>Manual</td>\n",
       "      <td>First Owner</td>\n",
       "    </tr>\n",
       "    <tr>\n",
       "      <th>1</th>\n",
       "      <td>Maruti Wagon R LXI Minor</td>\n",
       "      <td>2007</td>\n",
       "      <td>135000</td>\n",
       "      <td>50000</td>\n",
       "      <td>Petrol</td>\n",
       "      <td>Individual</td>\n",
       "      <td>Manual</td>\n",
       "      <td>First Owner</td>\n",
       "    </tr>\n",
       "    <tr>\n",
       "      <th>2</th>\n",
       "      <td>Hyundai Verna 1.6 SX</td>\n",
       "      <td>2012</td>\n",
       "      <td>600000</td>\n",
       "      <td>100000</td>\n",
       "      <td>Diesel</td>\n",
       "      <td>Individual</td>\n",
       "      <td>Manual</td>\n",
       "      <td>First Owner</td>\n",
       "    </tr>\n",
       "    <tr>\n",
       "      <th>3</th>\n",
       "      <td>Datsun RediGO T Option</td>\n",
       "      <td>2017</td>\n",
       "      <td>250000</td>\n",
       "      <td>46000</td>\n",
       "      <td>Petrol</td>\n",
       "      <td>Individual</td>\n",
       "      <td>Manual</td>\n",
       "      <td>First Owner</td>\n",
       "    </tr>\n",
       "    <tr>\n",
       "      <th>4</th>\n",
       "      <td>Honda Amaze VX i-DTEC</td>\n",
       "      <td>2014</td>\n",
       "      <td>450000</td>\n",
       "      <td>141000</td>\n",
       "      <td>Diesel</td>\n",
       "      <td>Individual</td>\n",
       "      <td>Manual</td>\n",
       "      <td>Second Owner</td>\n",
       "    </tr>\n",
       "  </tbody>\n",
       "</table>\n",
       "</div>"
      ],
      "text/plain": [
       "                       name  year  selling_price  km_driven    fuel  \\\n",
       "0             Maruti 800 AC  2007          60000      70000  Petrol   \n",
       "1  Maruti Wagon R LXI Minor  2007         135000      50000  Petrol   \n",
       "2      Hyundai Verna 1.6 SX  2012         600000     100000  Diesel   \n",
       "3    Datsun RediGO T Option  2017         250000      46000  Petrol   \n",
       "4     Honda Amaze VX i-DTEC  2014         450000     141000  Diesel   \n",
       "\n",
       "  seller_type transmission         owner  \n",
       "0  Individual       Manual   First Owner  \n",
       "1  Individual       Manual   First Owner  \n",
       "2  Individual       Manual   First Owner  \n",
       "3  Individual       Manual   First Owner  \n",
       "4  Individual       Manual  Second Owner  "
      ]
     },
     "execution_count": 2,
     "metadata": {},
     "output_type": "execute_result"
    }
   ],
   "source": [
    "df=pd.read_csv(r\"A:\\datasets\\CAR DETAILS FROM CAR DEKHO.csv\")\n",
    "df.head()"
   ]
  },
  {
   "cell_type": "code",
   "execution_count": 3,
   "metadata": {},
   "outputs": [],
   "source": [
    "dict_name={}\n",
    "j=1\n",
    "for i in df['name'].unique().tolist():\n",
    "    dict_name[i]=j\n",
    "    j+=1\n",
    "df['name_en']=df['name'].map(dict_name)\n",
    "\n",
    "dict_seller={'Individual':1,'Dealer':2,'Trustmark Dealer':3}\n",
    "df['seller_type_en']=df['seller_type'].map(dict_seller)\n",
    "df.drop('seller_type',axis=1,inplace=True)\n",
    "\n",
    "dict_trans={'Manual':1,'Automatic':2}\n",
    "df['transmission_en']=df['transmission'].map(dict_trans)\n",
    "df.drop('transmission',axis=1,inplace=True)\n",
    "\n",
    "dict_owner={'First Owner':1,'Second Owner':2, 'Third Owner':3,'Fourth & Above Owner':4,'Test Drive Car':0}\n",
    "df['owner_en']=df['owner'].map(dict_owner)\n",
    "df.drop(['owner','name'],axis=1,inplace=True)\n",
    "\n",
    "dict_fuel={'Diesel':1,'Petrol':2,'LPG':3, 'CNG':4, 'Electric':5}\n",
    "df['fuel_en']=df['fuel'].map(dict_fuel)\n",
    "df.drop('fuel',axis=1,inplace=True)"
   ]
  },
  {
   "cell_type": "code",
   "execution_count": 4,
   "metadata": {},
   "outputs": [
    {
     "data": {
      "text/html": [
       "<div>\n",
       "<style scoped>\n",
       "    .dataframe tbody tr th:only-of-type {\n",
       "        vertical-align: middle;\n",
       "    }\n",
       "\n",
       "    .dataframe tbody tr th {\n",
       "        vertical-align: top;\n",
       "    }\n",
       "\n",
       "    .dataframe thead th {\n",
       "        text-align: right;\n",
       "    }\n",
       "</style>\n",
       "<table border=\"1\" class=\"dataframe\">\n",
       "  <thead>\n",
       "    <tr style=\"text-align: right;\">\n",
       "      <th></th>\n",
       "      <th>year</th>\n",
       "      <th>selling_price</th>\n",
       "      <th>km_driven</th>\n",
       "      <th>name_en</th>\n",
       "      <th>seller_type_en</th>\n",
       "      <th>transmission_en</th>\n",
       "      <th>owner_en</th>\n",
       "      <th>fuel_en</th>\n",
       "    </tr>\n",
       "  </thead>\n",
       "  <tbody>\n",
       "    <tr>\n",
       "      <th>0</th>\n",
       "      <td>2007</td>\n",
       "      <td>60000</td>\n",
       "      <td>70000</td>\n",
       "      <td>1</td>\n",
       "      <td>1</td>\n",
       "      <td>1</td>\n",
       "      <td>1</td>\n",
       "      <td>2</td>\n",
       "    </tr>\n",
       "    <tr>\n",
       "      <th>1</th>\n",
       "      <td>2007</td>\n",
       "      <td>135000</td>\n",
       "      <td>50000</td>\n",
       "      <td>2</td>\n",
       "      <td>1</td>\n",
       "      <td>1</td>\n",
       "      <td>1</td>\n",
       "      <td>2</td>\n",
       "    </tr>\n",
       "    <tr>\n",
       "      <th>2</th>\n",
       "      <td>2012</td>\n",
       "      <td>600000</td>\n",
       "      <td>100000</td>\n",
       "      <td>3</td>\n",
       "      <td>1</td>\n",
       "      <td>1</td>\n",
       "      <td>1</td>\n",
       "      <td>1</td>\n",
       "    </tr>\n",
       "    <tr>\n",
       "      <th>3</th>\n",
       "      <td>2017</td>\n",
       "      <td>250000</td>\n",
       "      <td>46000</td>\n",
       "      <td>4</td>\n",
       "      <td>1</td>\n",
       "      <td>1</td>\n",
       "      <td>1</td>\n",
       "      <td>2</td>\n",
       "    </tr>\n",
       "    <tr>\n",
       "      <th>4</th>\n",
       "      <td>2014</td>\n",
       "      <td>450000</td>\n",
       "      <td>141000</td>\n",
       "      <td>5</td>\n",
       "      <td>1</td>\n",
       "      <td>1</td>\n",
       "      <td>2</td>\n",
       "      <td>1</td>\n",
       "    </tr>\n",
       "  </tbody>\n",
       "</table>\n",
       "</div>"
      ],
      "text/plain": [
       "   year  selling_price  km_driven  name_en  seller_type_en  transmission_en  \\\n",
       "0  2007          60000      70000        1               1                1   \n",
       "1  2007         135000      50000        2               1                1   \n",
       "2  2012         600000     100000        3               1                1   \n",
       "3  2017         250000      46000        4               1                1   \n",
       "4  2014         450000     141000        5               1                1   \n",
       "\n",
       "   owner_en  fuel_en  \n",
       "0         1        2  \n",
       "1         1        2  \n",
       "2         1        1  \n",
       "3         1        2  \n",
       "4         2        1  "
      ]
     },
     "execution_count": 4,
     "metadata": {},
     "output_type": "execute_result"
    }
   ],
   "source": [
    "df.head()"
   ]
  },
  {
   "cell_type": "code",
   "execution_count": 5,
   "metadata": {},
   "outputs": [
    {
     "name": "stderr",
     "output_type": "stream",
     "text": [
      "100%|██████████| 200/200 [00:01<00:00, 187.89it/s]\n"
     ]
    },
    {
     "data": {
      "text/plain": [
       "[<matplotlib.lines.Line2D at 0x27b26ad98e0>]"
      ]
     },
     "execution_count": 5,
     "metadata": {},
     "output_type": "execute_result"
    },
    {
     "data": {
      "image/png": "[encoded data removed]",
      "text/plain": [
       "<Figure size 432x288 with 1 Axes>"
      ]
     },
     "metadata": {
      "needs_background": "light"
     },
     "output_type": "display_data"
    }
   ],
   "source": [
    "A = df.drop('selling_price',axis=1) #input\n",
    "y = df[['selling_price']] #output\n",
    "x = np.random.random((7,1)) #parameters\n",
    "c = np.random.random() #y intercept\n",
    "lr = 0.000000000001 #learning rate\n",
    "\n",
    "costs = []\n",
    "for i in tqdm(range(200)):\n",
    "    prediction = np.dot(A,x)\n",
    "    loss = y-prediction\n",
    "    cost = np.sum((prediction-y)**2)\n",
    "    costs.append(cost)\n",
    "    gradient = 2*np.dot(A.T,loss)/df.shape[0]\n",
    "    x=x-lr*-gradient\n",
    "plt.plot(range(200),costs)"
   ]
  },
  {
   "cell_type": "code",
   "execution_count": 6,
   "metadata": {},
   "outputs": [
    {
     "data": {
      "text/plain": [
       "4340"
      ]
     },
     "execution_count": 6,
     "metadata": {},
     "output_type": "execute_result"
    }
   ],
   "source": [
    "prediction=np.dot(A,x)\n",
    "len(prediction)"
   ]
  },
  {
   "cell_type": "code",
   "execution_count": 7,
   "metadata": {},
   "outputs": [
    {
     "data": {
      "text/plain": [
       "(4340, 8)"
      ]
     },
     "execution_count": 7,
     "metadata": {},
     "output_type": "execute_result"
    }
   ],
   "source": [
    "df.shape"
   ]
  },
  {
   "cell_type": "code",
   "execution_count": 8,
   "metadata": {},
   "outputs": [
    {
     "data": {
      "text/plain": [
       "2026575291671920.0"
      ]
     },
     "execution_count": 8,
     "metadata": {},
     "output_type": "execute_result"
    }
   ],
   "source": [
    "costs[-1][0]"
   ]
  },
  {
   "cell_type": "code",
   "execution_count": 9,
   "metadata": {},
   "outputs": [
    {
     "data": {
      "text/plain": [
       "2026575291671920.0"
      ]
     },
     "execution_count": 9,
     "metadata": {},
     "output_type": "execute_result"
    }
   ],
   "source": [
    "costs[-1][0]"
   ]
  },
  {
   "cell_type": "code",
   "execution_count": 10,
   "metadata": {},
   "outputs": [
    {
     "data": {
      "text/plain": [
       "array([281347.4673326])"
      ]
     },
     "execution_count": 10,
     "metadata": {},
     "output_type": "execute_result"
    }
   ],
   "source": [
    "np.dot(A.iloc[0].values,x)"
   ]
  },
  {
   "cell_type": "code",
   "execution_count": 11,
   "metadata": {},
   "outputs": [
    {
     "data": {
      "text/plain": [
       "array([[57159.59291059]])"
      ]
     },
     "execution_count": 11,
     "metadata": {},
     "output_type": "execute_result"
    }
   ],
   "source": [
    "def cost_function(prediction,y,sample_size):\n",
    "    return np.sqrt(np.sum((prediction-y)**2)/sample_size)\n",
    "\n",
    "lr=LinearRegression(n_jobs=-1)\n",
    "lr.fit(A,y)\n",
    "lr.predict([A.iloc[0].values])"
   ]
  },
  {
   "cell_type": "code",
   "execution_count": 12,
   "metadata": {},
   "outputs": [
    {
     "data": {
      "text/plain": [
       "[683328.2040167772, 429036.34051936114]"
      ]
     },
     "execution_count": 12,
     "metadata": {},
     "output_type": "execute_result"
    }
   ],
   "source": [
    "[cost_function(np.dot(A,x),y,A.shape[0])[0], cost_function(lr.predict(A),y,A.shape[0])[0] ]"
   ]
  },
  {
   "cell_type": "markdown",
   "metadata": {},
   "source": [
    "#### Applying Linear Regression for prediction of Weight w.r.t to Height"
   ]
  },
  {
   "cell_type": "code",
   "execution_count": 13,
   "metadata": {},
   "outputs": [
    {
     "data": {
      "text/html": [
       "<div>\n",
       "<style scoped>\n",
       "    .dataframe tbody tr th:only-of-type {\n",
       "        vertical-align: middle;\n",
       "    }\n",
       "\n",
       "    .dataframe tbody tr th {\n",
       "        vertical-align: top;\n",
       "    }\n",
       "\n",
       "    .dataframe thead th {\n",
       "        text-align: right;\n",
       "    }\n",
       "</style>\n",
       "<table border=\"1\" class=\"dataframe\">\n",
       "  <thead>\n",
       "    <tr style=\"text-align: right;\">\n",
       "      <th></th>\n",
       "      <th>Gender</th>\n",
       "      <th>Height</th>\n",
       "      <th>Weight</th>\n",
       "    </tr>\n",
       "  </thead>\n",
       "  <tbody>\n",
       "    <tr>\n",
       "      <th>0</th>\n",
       "      <td>Male</td>\n",
       "      <td>73.847017</td>\n",
       "      <td>241.893563</td>\n",
       "    </tr>\n",
       "    <tr>\n",
       "      <th>1</th>\n",
       "      <td>Male</td>\n",
       "      <td>68.781904</td>\n",
       "      <td>162.310473</td>\n",
       "    </tr>\n",
       "    <tr>\n",
       "      <th>2</th>\n",
       "      <td>Male</td>\n",
       "      <td>74.110105</td>\n",
       "      <td>212.740856</td>\n",
       "    </tr>\n",
       "    <tr>\n",
       "      <th>3</th>\n",
       "      <td>Male</td>\n",
       "      <td>71.730978</td>\n",
       "      <td>220.042470</td>\n",
       "    </tr>\n",
       "    <tr>\n",
       "      <th>4</th>\n",
       "      <td>Male</td>\n",
       "      <td>69.881796</td>\n",
       "      <td>206.349801</td>\n",
       "    </tr>\n",
       "  </tbody>\n",
       "</table>\n",
       "</div>"
      ],
      "text/plain": [
       "  Gender     Height      Weight\n",
       "0   Male  73.847017  241.893563\n",
       "1   Male  68.781904  162.310473\n",
       "2   Male  74.110105  212.740856\n",
       "3   Male  71.730978  220.042470\n",
       "4   Male  69.881796  206.349801"
      ]
     },
     "execution_count": 13,
     "metadata": {},
     "output_type": "execute_result"
    }
   ],
   "source": [
    "df=pd.read_csv(r\"C:\\Users\\Akarsh.B.A\\Desktop\\Karunadu internship\\projects2022\\LinearRegression\\Heightweightpredictor\\weight-height.csv\")\n",
    "df.head()"
   ]
  },
  {
   "cell_type": "code",
   "execution_count": 14,
   "metadata": {},
   "outputs": [
    {
     "name": "stdout",
     "output_type": "stream",
     "text": [
      "(10000, 3)\n",
      "(10000, 2)\n"
     ]
    }
   ],
   "source": [
    "print(df.shape)\n",
    "df.drop('Gender',inplace=True,axis=1)\n",
    "print(df.shape)"
   ]
  },
  {
   "cell_type": "code",
   "execution_count": 15,
   "metadata": {},
   "outputs": [
    {
     "data": {
      "image/png": "[encoded data removed]",
      "text/plain": [
       "<Figure size 432x288 with 1 Axes>"
      ]
     },
     "metadata": {
      "needs_background": "light"
     },
     "output_type": "display_data"
    }
   ],
   "source": [
    "from sklearn import linear_model\n",
    "input = df.drop('Weight',axis=1)\n",
    "output = df.drop('Height',axis=1)\n",
    "plt.xlabel('Height')\n",
    "plt.ylabel('Weight')\n",
    "plt.title('Scatterplot for weight vs height')\n",
    "plt.scatter(input,output)\n",
    "plt.show()"
   ]
  },
  {
   "cell_type": "code",
   "execution_count": 16,
   "metadata": {},
   "outputs": [
    {
     "name": "stdout",
     "output_type": "stream",
     "text": [
      "0.8551742120609958\n",
      "[[7.71728764]]\n",
      "[-350.73719181]\n",
      "model_result [[266.64581945]]\n",
      "manual_result [[266.64581945]]\n"
     ]
    }
   ],
   "source": [
    "model=linear_model.LinearRegression()\n",
    "model.fit(input,output)\n",
    "model_result=model.predict([[80]])\n",
    "print(model.score(input,output))\n",
    "print(model.coef_)\n",
    "print(model.intercept_)\n",
    "manual_result=model.coef_ * 80 + model.intercept_\n",
    "print(\"model_result\",model_result)\n",
    "print(\"manual_result\",manual_result)"
   ]
  },
  {
   "cell_type": "markdown",
   "metadata": {},
   "source": [
    "# Multiple Linear Regression"
   ]
  },
  {
   "cell_type": "code",
   "execution_count": 17,
   "metadata": {},
   "outputs": [
    {
     "name": "stdout",
     "output_type": "stream",
     "text": [
      " year  km_driven  name_en  seller_type_en  transmission_en  owner_en  fuel_en\n",
      " 2007      70000        1               1                1         1        2\n",
      " 2007      50000        2               1                1         1        2\n",
      " 2012     100000        3               1                1         1        1\n",
      " 2017      46000        4               1                1         1        2\n",
      " 2014     141000        5               1                1         2        1\n",
      "...          ...      ...             ...              ...       ...      ...\n",
      " 2014      80000      181               1                1         2        1\n",
      " 2014      80000     1491               1                1         2        1\n",
      " 2009      83000      122               1                1         2        2\n",
      " 2016      90000      562               1                1         1        1\n",
      " 2016      40000       92               1                1         1        2\n",
      " selling_price\n",
      "         60000\n",
      "        135000\n",
      "        600000\n",
      "        250000\n",
      "        450000\n",
      "...           \n",
      "        409999\n",
      "        409999\n",
      "        110000\n",
      "        865000\n",
      "        225000\n",
      "model_result: [[507006.45264444]]\n",
      "coefficient: [[ 3.79325572e+04 -7.09673184e-01 -6.07231648e+00  8.90726099e+04\n",
      "   8.65337687e+05 -1.51062021e+04 -2.31450400e+05]]\n",
      "intercept: [-76500202.73057173]\n",
      "manual_result: 507006.45264443755\n",
      "accuracy: 0.4499421838062061\n"
     ]
    }
   ],
   "source": [
    "df=pd.read_csv(r\"C:\\Users\\Akarsh.B.A\\Desktop\\Karunadu internship\\projects2022\\mutiplelinearregression\\Carprice\\CAR DETAILS FROM CAR DEKHO.csv\")\n",
    "\n",
    "dict_name={}\n",
    "j=1\n",
    "for i in df['name'].unique().tolist():\n",
    "    dict_name[i]=j\n",
    "    j+=1\n",
    "df['name_en']=df['name'].map(dict_name)\n",
    "\n",
    "dict_seller={'Individual':1,'Dealer':2,'Trustmark Dealer':3}\n",
    "df['seller_type_en']=df['seller_type'].map(dict_seller)\n",
    "df.drop('seller_type',axis=1,inplace=True)\n",
    "\n",
    "dict_trans={'Manual':1,'Automatic':2}\n",
    "df['transmission_en']=df['transmission'].map(dict_trans)\n",
    "df.drop('transmission',axis=1,inplace=True)\n",
    "\n",
    "dict_owner={'First Owner':1,'Second Owner':2, 'Third Owner':3,'Fourth & Above Owner':4,'Test Drive Car':0}\n",
    "df['owner_en']=df['owner'].map(dict_owner)\n",
    "df.drop('owner',axis=1,inplace=True)\n",
    "\n",
    "dict_fuel={'Diesel':1,'Petrol':2,'LPG':3, 'CNG':4, 'Electric':5}\n",
    "df['fuel_en']=df['fuel'].map(dict_fuel)\n",
    "df.drop('fuel',axis=1,inplace=True)\n",
    "\n",
    "inputs=df.drop(['selling_price','name'],'columns')\n",
    "outputs=df.drop(['name','year','name_en','km_driven','fuel_en','seller_type_en','transmission_en','owner_en'],'columns')\n",
    "print(inputs.to_string(index=False,max_rows=10))\n",
    "print(outputs.to_string(index=False,max_rows=10))\n",
    "\n",
    "model=linear_model.LinearRegression()\n",
    "model.fit(inputs,outputs)\n",
    "\n",
    "model_result=model.predict([[2014,60000,153,3,1,1,2]])\n",
    "print('model_result:',model_result)\n",
    "print('coefficient:',model.coef_)\n",
    "print('intercept:',model.intercept_)\n",
    "manual_result=model.coef_[0][0]*2014 + model.coef_[0][1]*60000 + model.coef_[0][2]*153 + model.coef_[0][3]*3 + model.coef_[0][4]*1 + model.coef_[0][5]*1 + model.coef_[0][6]*2 + model.intercept_[0]\n",
    "print('manual_result:',manual_result)\n",
    "acc=model.score(inputs,outputs)\n",
    "print('accuracy:',acc)"
   ]
  },
  {
   "cell_type": "code",
   "execution_count": 18,
   "metadata": {},
   "outputs": [
    {
     "name": "stdout",
     "output_type": "stream",
     "text": [
      "2012 30000 96 3 1 1 2\n",
      "result: [[452777.6558733]]\n"
     ]
    },
    {
     "ename": "SystemExit",
     "evalue": "0",
     "output_type": "error",
     "traceback": [
      "An exception has occurred, use %tb to see the full traceback.\n",
      "\u001b[1;31mSystemExit\u001b[0m\u001b[1;31m:\u001b[0m 0\n"
     ]
    }
   ],
   "source": [
    "# -*- coding: utf-8 -*-\n",
    "\n",
    "# Form implementation generated from reading ui file 'input_pqt.ui'\n",
    "#\n",
    "# Created by: PyQt5 UI code generator 5.15.4\n",
    "#\n",
    "# WARNING: Any manual changes made to this file will be lost when pyuic5 is\n",
    "# run again.  Do not edit this file unless you know what you are doing.\n",
    "\n",
    "\n",
    "from PyQt5 import QtCore, QtGui, QtWidgets\n",
    "\n",
    "\n",
    "class Ui_MainWindow(object):\n",
    "    def setupUi(self, MainWindow):\n",
    "        MainWindow.setObjectName(\"MainWindow\")\n",
    "        MainWindow.resize(800, 600)\n",
    "        self.centralwidget = QtWidgets.QWidget(MainWindow)\n",
    "        self.centralwidget.setObjectName(\"centralwidget\")\n",
    "        self.pushbutton = QtWidgets.QPushButton(self.centralwidget)\n",
    "        self.pushbutton.setGeometry(QtCore.QRect(260, 270, 261, 31))\n",
    "        self.pushbutton.setStyleSheet(\"color:rgb(255, 170, 0);\\n\"\n",
    "\"font: 20pt \\\"Algerian\\\";\\n\"\n",
    "\"border-color: rgb(0, 0, 0);\\n\"\n",
    "\"gridline-color: rgb(0, 0, 0);\\n\"\n",
    "\"selection-color: rgb(255, 255, 255);\\n\"\n",
    "\"background-color: rgb(68, 68, 68);\\n\"\n",
    "\"\")\n",
    "        self.pushbutton.setObjectName(\"pushbutton\")\n",
    "        self.Result = QtWidgets.QLabel(self.centralwidget)\n",
    "        self.Result.setGeometry(QtCore.QRect(260, 359, 261, 31))\n",
    "        self.Result.setStyleSheet(\"font: 75 20pt \\\"Perpetua Titling MT\\\";\\n\"\n",
    "\"background-color: rgb(255, 255, 255);\")\n",
    "        self.Result.setObjectName(\"Result\")\n",
    "        self.widget = QtWidgets.QWidget(self.centralwidget)\n",
    "        self.widget.setGeometry(QtCore.QRect(10, 10, 166, 201))\n",
    "        self.widget.setObjectName(\"widget\")\n",
    "        self.verticalLayout_3 = QtWidgets.QVBoxLayout(self.widget)\n",
    "        self.verticalLayout_3.setContentsMargins(0, 0, 0, 0)\n",
    "        self.verticalLayout_3.setObjectName(\"verticalLayout_3\")\n",
    "        self.verticalLayout = QtWidgets.QVBoxLayout()\n",
    "        self.verticalLayout.setObjectName(\"verticalLayout\")\n",
    "        self.Label_1 = QtWidgets.QLabel(self.widget)\n",
    "        self.Label_1.setStyleSheet(\"font: 87 12pt \\\"Arial Black\\\";\\n\"\n",
    "\"color: rgb(85, 255, 0);\\n\"\n",
    "\"border-color: rgb(0, 0, 0);\\n\"\n",
    "\"gridline-color: rgb(0, 0, 0);\\n\"\n",
    "\"selection-color: rgb(255, 255, 255);\\n\"\n",
    "\"background-color: rgb(68, 68, 68);\\n\"\n",
    "\"\")\n",
    "        self.Label_1.setObjectName(\"Label_1\")\n",
    "        self.verticalLayout.addWidget(self.Label_1)\n",
    "        self.Label_2 = QtWidgets.QLabel(self.widget)\n",
    "        self.Label_2.setStyleSheet(\"font: 87 12pt \\\"Arial Black\\\";\\n\"\n",
    "\"color: rgb(85, 255, 0);\\n\"\n",
    "\"border-color: rgb(0, 0, 0);\\n\"\n",
    "\"gridline-color: rgb(0, 0, 0);\\n\"\n",
    "\"selection-color: rgb(255, 255, 255);\\n\"\n",
    "\"background-color: rgb(68, 68, 68);\")\n",
    "        self.Label_2.setObjectName(\"Label_2\")\n",
    "        self.verticalLayout.addWidget(self.Label_2)\n",
    "        self.Label_3 = QtWidgets.QLabel(self.widget)\n",
    "        self.Label_3.setStyleSheet(\"font: 87 12pt \\\"Arial Black\\\";\\n\"\n",
    "\"color: rgb(85, 255, 0);\\n\"\n",
    "\"border-color: rgb(0, 0, 0);\\n\"\n",
    "\"gridline-color: rgb(0, 0, 0);\\n\"\n",
    "\"selection-color: rgb(255, 255, 255);\\n\"\n",
    "\"background-color: rgb(68, 68, 68);\")\n",
    "        self.Label_3.setObjectName(\"Label_3\")\n",
    "        self.verticalLayout.addWidget(self.Label_3)\n",
    "        self.label_4 = QtWidgets.QLabel(self.widget)\n",
    "        self.label_4.setStyleSheet(\"font: 87 12pt \\\"Arial Black\\\";\\n\"\n",
    "\"color: rgb(85, 255, 0);\\n\"\n",
    "\"border-color: rgb(0, 0, 0);\\n\"\n",
    "\"gridline-color: rgb(0, 0, 0);\\n\"\n",
    "\"selection-color: rgb(255, 255, 255);\\n\"\n",
    "\"background-color: rgb(68, 68, 68);\")\n",
    "        self.label_4.setObjectName(\"label_4\")\n",
    "        self.verticalLayout.addWidget(self.label_4)\n",
    "        self.label_5 = QtWidgets.QLabel(self.widget)\n",
    "        self.label_5.setStyleSheet(\"font: 87 12pt \\\"Arial Black\\\";\\n\"\n",
    "\"color: rgb(85, 255, 0);\\n\"\n",
    "\"border-color: rgb(0, 0, 0);\\n\"\n",
    "\"gridline-color: rgb(0, 0, 0);\\n\"\n",
    "\"selection-color: rgb(255, 255, 255);\\n\"\n",
    "\"background-color: rgb(68, 68, 68);\")\n",
    "        self.label_5.setObjectName(\"label_5\")\n",
    "        self.verticalLayout.addWidget(self.label_5)\n",
    "        self.label_6 = QtWidgets.QLabel(self.widget)\n",
    "        self.label_6.setStyleSheet(\"font: 87 12pt \\\"Arial Black\\\";\\n\"\n",
    "\"color: rgb(85, 255, 0);\\n\"\n",
    "\"border-color: rgb(0, 0, 0);\\n\"\n",
    "\"gridline-color: rgb(0, 0, 0);\\n\"\n",
    "\"selection-color: rgb(255, 255, 255);\\n\"\n",
    "\"background-color: rgb(68, 68, 68);\")\n",
    "        self.label_6.setObjectName(\"label_6\")\n",
    "        self.verticalLayout.addWidget(self.label_6)\n",
    "        self.verticalLayout_3.addLayout(self.verticalLayout)\n",
    "        self.label_7 = QtWidgets.QLabel(self.widget)\n",
    "        self.label_7.setStyleSheet(\"font: 87 12pt \\\"Arial Black\\\";\\n\"\n",
    "\"color: rgb(85, 255, 0);\\n\"\n",
    "\"border-color: rgb(0, 0, 0);\\n\"\n",
    "\"gridline-color: rgb(0, 0, 0);\\n\"\n",
    "\"selection-color: rgb(255, 255, 255);\\n\"\n",
    "\"background-color: rgb(68, 68, 68);\")\n",
    "        self.label_7.setObjectName(\"label_7\")\n",
    "        self.verticalLayout_3.addWidget(self.label_7)\n",
    "        self.widget1 = QtWidgets.QWidget(self.centralwidget)\n",
    "        self.widget1.setGeometry(QtCore.QRect(310, 9, 421, 201))\n",
    "        self.widget1.setObjectName(\"widget1\")\n",
    "        self.verticalLayout_4 = QtWidgets.QVBoxLayout(self.widget1)\n",
    "        self.verticalLayout_4.setContentsMargins(0, 0, 0, 0)\n",
    "        self.verticalLayout_4.setObjectName(\"verticalLayout_4\")\n",
    "        self.verticalLayout_2 = QtWidgets.QVBoxLayout()\n",
    "        self.verticalLayout_2.setObjectName(\"verticalLayout_2\")\n",
    "        self.car_name = QtWidgets.QLineEdit(self.widget1)\n",
    "        self.car_name.setObjectName(\"car_name\")\n",
    "        self.verticalLayout_2.addWidget(self.car_name)\n",
    "        self.purchase_year = QtWidgets.QLineEdit(self.widget1)\n",
    "        self.purchase_year.setObjectName(\"purchase_year\")\n",
    "        self.verticalLayout_2.addWidget(self.purchase_year)\n",
    "        self.km_driven = QtWidgets.QLineEdit(self.widget1)\n",
    "        self.km_driven.setObjectName(\"km_driven\")\n",
    "        self.verticalLayout_2.addWidget(self.km_driven)\n",
    "        self.seller_type = QtWidgets.QLineEdit(self.widget1)\n",
    "        self.seller_type.setObjectName(\"seller_type\")\n",
    "        self.verticalLayout_2.addWidget(self.seller_type)\n",
    "        self.Transmission_type = QtWidgets.QLineEdit(self.widget1)\n",
    "        self.Transmission_type.setObjectName(\"Transmission_type\")\n",
    "        self.verticalLayout_2.addWidget(self.Transmission_type)\n",
    "        self.Owner_type = QtWidgets.QLineEdit(self.widget1)\n",
    "        self.Owner_type.setObjectName(\"Owner_type\")\n",
    "        self.verticalLayout_2.addWidget(self.Owner_type)\n",
    "        self.verticalLayout_4.addLayout(self.verticalLayout_2)\n",
    "        self.Fuel_Type = QtWidgets.QLineEdit(self.widget1)\n",
    "        self.Fuel_Type.setObjectName(\"Fuel_Type\")\n",
    "        self.verticalLayout_4.addWidget(self.Fuel_Type)\n",
    "        MainWindow.setCentralWidget(self.centralwidget)\n",
    "        self.menubar = QtWidgets.QMenuBar(MainWindow)\n",
    "        self.menubar.setGeometry(QtCore.QRect(0, 0, 800, 21))\n",
    "        self.menubar.setObjectName(\"menubar\")\n",
    "        MainWindow.setMenuBar(self.menubar)\n",
    "        self.statusbar = QtWidgets.QStatusBar(MainWindow)\n",
    "        self.statusbar.setObjectName(\"statusbar\")\n",
    "        MainWindow.setStatusBar(self.statusbar)\n",
    "        self.pushbutton.clicked.connect(self.car_prediction)\n",
    "\n",
    "        self.retranslateUi(MainWindow)\n",
    "        QtCore.QMetaObject.connectSlotsByName(MainWindow)\n",
    "\n",
    "    def retranslateUi(self, MainWindow):\n",
    "        _translate = QtCore.QCoreApplication.translate\n",
    "        MainWindow.setWindowTitle(_translate(\"MainWindow\", \"MainWindow\"))\n",
    "        self.pushbutton.setText(_translate(\"MainWindow\", \"Predict the price\"))\n",
    "        self.Result.setText(_translate(\"MainWindow\", \"Car Price\"))\n",
    "        self.Label_1.setText(_translate(\"MainWindow\", \"Car Name\"))\n",
    "        self.Label_2.setText(_translate(\"MainWindow\", \"Purchase Year\"))\n",
    "        self.Label_3.setText(_translate(\"MainWindow\", \"Driven km\"))\n",
    "        self.label_4.setText(_translate(\"MainWindow\", \"Seller Type\"))\n",
    "        self.label_5.setText(_translate(\"MainWindow\", \"Transmission type\"))\n",
    "        self.label_6.setText(_translate(\"MainWindow\", \"Owner\"))\n",
    "        self.label_7.setText(_translate(\"MainWindow\", \"Fuel Type\"))\n",
    "    \n",
    "    def car_prediction(self):\n",
    "        import pandas as pd, matplotlib.pyplot as plt,sklearn,warnings\n",
    "        warnings.filterwarnings('ignore')\n",
    "        from sklearn import linear_model\n",
    "        \n",
    "        df=pd.read_csv(r\"C:\\Users\\Akarsh.B.A\\Desktop\\Karunadu internship\\projects2022\\mutiplelinearregression\\Carprice\\CAR DETAILS FROM CAR DEKHO.csv\")\n",
    "        dict_name={}\n",
    "        j=1\n",
    "        for i in df['name'].unique().tolist():\n",
    "            dict_name[i]=j\n",
    "            j+=1\n",
    "        df['name_en']=df['name'].map(dict_name)\n",
    "        df.drop('name',axis=1,inplace=True)        \n",
    "\n",
    "        dict_seller={'Individual':1,'Dealer':2,'Trustmark Dealer':3}\n",
    "        df['seller_type_en']=df['seller_type'].map(dict_seller)\n",
    "        df.drop('seller_type',axis=1,inplace=True)\n",
    "\n",
    "        dict_trans={'Manual':1,'Automatic':2}\n",
    "        df['transmission_en']=df['transmission'].map(dict_trans)\n",
    "        df.drop('transmission',axis=1,inplace=True)\n",
    "\n",
    "        dict_owner={'First Owner':1,'Second Owner':2, 'Third Owner':3,'Fourth & Above Owner':4,'Test Drive Car':0}\n",
    "        df['owner_en']=df['owner'].map(dict_owner)\n",
    "        df.drop('owner',axis=1,inplace=True)\n",
    "\n",
    "        dict_fuel={'Diesel':1,'Petrol':2,'LPG':3, 'CNG':4, 'Electric':5}\n",
    "        df['fuel_en']=df['fuel'].map(dict_fuel)\n",
    "        df.drop('fuel',axis=1,inplace=True)\n",
    "\n",
    "        inputs=df.drop(['selling_price'],'columns')\n",
    "        outputs=df.drop(['year','name_en','km_driven','fuel_en','seller_type_en','transmission_en','owner_en'],'columns')\n",
    "\n",
    "        model=linear_model.LinearRegression()\n",
    "        model.fit(inputs,outputs)\n",
    "        \n",
    "        result=model.predict([[int(self.purchase_year.text()),int(self.km_driven.text()),int(dict_name[self.car_name.text()]),int(dict_seller[self.seller_type.text()]),int(dict_trans[self.Transmission_type.text()]),int(dict_owner[self.Owner_type.text()]),int(dict_fuel[self.Fuel_Type.text()])]])\n",
    "        print(int(self.purchase_year.text()),int(self.km_driven.text()),int(dict_name[self.car_name.text()]),int(dict_seller[self.seller_type.text()]),int(dict_trans[self.Transmission_type.text()]),int(dict_owner[self.Owner_type.text()]),int(dict_fuel[self.Fuel_Type.text()]))\n",
    "        print('result:',result)\n",
    "        self.Result.setText(str(round(result[0][0]))) \n",
    "        \n",
    "if __name__ == \"__main__\":\n",
    "    import sys\n",
    "    app = QtWidgets.QApplication(sys.argv)\n",
    "    MainWindow = QtWidgets.QMainWindow()\n",
    "    ui = Ui_MainWindow()\n",
    "    ui.setupUi(MainWindow)\n",
    "    MainWindow.show()\n",
    "    sys.exit(app.exec_())"
   ]
  },
  {
   "cell_type": "code",
   "execution_count": null,
   "metadata": {},
   "outputs": [],
   "source": []
  }
 ],
 "metadata": {
  "interpreter": {
   "hash": "07cbc7053d0b87fa117ac4f82a462b3f1cac7ce88497130e252d18631b457e45"
  },
  "kernelspec": {
   "display_name": "Python 3.9.4 64-bit",
   "language": "python",
   "name": "python3"
  },
  "language_info": {
   "codemirror_mode": {
    "name": "ipython",
    "version": 3
   },
   "file_extension": ".py",
   "mimetype": "text/x-python",
   "name": "python",
   "nbconvert_exporter": "python",
   "pygments_lexer": "ipython3",
   "version": "3.9.4"
  },
  "orig_nbformat": 4
 },
 "nbformat": 4,
 "nbformat_minor": 2
}
